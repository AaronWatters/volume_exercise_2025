{
 "cells": [
  {
   "cell_type": "markdown",
   "id": "55700a09-6504-4cb8-8541-d1cb20561f78",
   "metadata": {},
   "source": [
    "# Programming exercise:  Generate a 3d isosurface visualization from a volume array.\n",
    "\n",
    "The goal of this exercise is to create a web page visualization of the volume array stored\n",
    "in this data file:\n",
    "\n",
    "```\n",
    "../docs/head64.npy\n",
    "```\n",
    "\n",
    "Here is a recommended sequence of steps:\n",
    "\n",
    "- Fork this repository.\n",
    "- Set up your forked repo so that it server github pages.\n",
    "- Change the `README.md` in your fork so it links to the github pages for your forked repo.\n",
    "- Clone your fork to a working area on your machine.\n",
    "- Generate a JSON dataset from `head64.npy` as described below.\n",
    "- Make a new web page that loads the JSON data set.\n",
    "- Add a link to the new web page in the index.\n",
    "- Commit changes and relevant new files to your forked repo and push the changes up to github\n",
    "\n",
    "Most of these steps are straightforward if you have a basic knowledge\n",
    "of the underlying technologies, except for the JSON creation which may\n",
    "require a little thought and experimentation.\n",
    "\n",
    "Below are more detailed discussions of these steps."
   ]
  },
  {
   "cell_type": "markdown",
   "id": "a8d2f5a8-898a-4d36-a665-2665bbfb4185",
   "metadata": {},
   "source": [
    "# Fork this repository\n",
    "\n",
    "By forking this repository you will make your own copy that\n",
    "you can modify and publish.  Please see here for more information \n",
    "about forks:\n",
    "\n",
    "<a href=\"https://docs.github.com/en/pull-requests/collaborating-with-pull-requests/working-with-forks/fork-a-repo\">\n",
    "https://docs.github.com/en/pull-requests/collaborating-with-pull-requests/working-with-forks/fork-a-repo</a>\n"
   ]
  },
  {
   "cell_type": "markdown",
   "id": "8f2b83ed-7404-4fd5-b8a2-ac14f0788941",
   "metadata": {},
   "source": [
    "# Set up your forked repo so that it serves github pages.\n",
    "\n",
    "When your repo has github pages enabled for the `/doc` folder anyone\n",
    "will be able to load the web pages.  See here for more information about setting up pages:\n",
    "\n",
    "<a href=\"https://docs.github.com/en/pages/quickstart\">https://docs.github.com/en/pages/quickstart</a>"
   ]
  },
  {
   "cell_type": "markdown",
   "id": "cbcd4d68-44c2-4465-aef6-2da9b90eaa94",
   "metadata": {},
   "source": [
    "# Change the `README.md` in your fork so it links to the github pages for your forked repo.\n",
    "\n",
    "The `README.md` for this repository points to the github pages for this repository:\n",
    "```\n",
    "https://aaronwatters.github.io/volume_exercise_2025/\n",
    "```\n",
    "In your fork please change the link to point to the github pages for the fork."
   ]
  },
  {
   "cell_type": "markdown",
   "id": "ddae9c02-c228-400c-a5f8-958b73ff99d7",
   "metadata": {},
   "source": [
    "# Clone your fork to a working area on your machine.\n",
    "\n",
    "In order to make changes to the forked repository you will want to clone\n",
    "a local copy on your machine.  Please see here for information about cloning\n",
    "\n",
    "<a href=\"https://docs.github.com/en/repositories/creating-and-managing-repositories/cloning-a-repository\">\n",
    "https://docs.github.com/en/repositories/creating-and-managing-repositories/cloning-a-repository</a>\n",
    "\n",
    "## NOTE: You will need to run a web server to view the changes you make to the web site\n",
    "\n",
    "The 3d models of the web server are loaded by fetching JSON data in Javascript.\n",
    "To load JSON data into a web page you must use some version of the HTTP protocol.  In particular on Mac\n",
    "\n",
    "```\n",
    "open index.html\n",
    "```\n",
    "\n",
    "or on Windows\n",
    "\n",
    "```\n",
    "start index.html\n",
    "```\n",
    "\n",
    "or similar direct file access will not permit the JSON data to be loaded.\n",
    "\n",
    "Please see here for information on how to run a simple web server using Python standard libraries:\n",
    "\n",
    "<a href=\"https://realpython.com/python-http-server/\">https://realpython.com/python-http-server/</a>"
   ]
  },
  {
   "cell_type": "markdown",
   "id": "598aa5e0-fd59-4f2f-aefc-325ad5a889ea",
   "metadata": {},
   "source": [
    "# Generate a JSON dataset from `head64.npy` using the isosurface at level 50\n",
    "\n",
    "In order to display a 3d model of the data volume in `head64.npy` you will need to\n",
    "create a JSON data file `head.json` encoding the triangles of an isosurface triangulation for the model.\n",
    "The JSON representation should be similar to the following JSON files\n",
    "provided in the repository:\n",
    "\n",
    "```\n",
    "docs/box.json -- small example\n",
    "docs/helices.json -- larger example\n",
    "```\n",
    "\n",
    "Load the contents of `head64.npy` into a Python array named `head`.\n",
    "\n",
    "It is straightforward to get a representation of the isosurface for the array using\n",
    "`skimage.measure.marching_cubes` as documented here:\n",
    "\n",
    "<a href=\"https://devdoc.net/python/scikit-image-doc-0.13.1/api/skimage.measure.html#skimage.measure.marching_cubes\">\n",
    "https://devdoc.net/python/scikit-image-doc-0.13.1/api/skimage.measure.html#skimage.measure.marching_cubes</a>\n",
    "\n",
    "In particular\n",
    "\n",
    "```Python\n",
    "from skimage import measure\n",
    "verts, faces, normals, values = measure.marching_cubes(head, level=50)\n",
    "```\n",
    "\n",
    "Generates the **indexed** representation, where the indices for the triangles are in `faces`.\n",
    "But that **is not the format required for the JSON representation**.\n",
    "\n",
    "## *You need to \"unindex\" and flatten the representation to store the normals and vertices as JSON lists*\n",
    "\n",
    "Make sure the JSON is in the correct format as described below."
   ]
  },
  {
   "cell_type": "markdown",
   "id": "788750d8-0b65-49b0-af6c-9834f30f8846",
   "metadata": {},
   "source": [
    "# The JSON data representation\n",
    "\n",
    "The following Python interactions illustrate the required format using the \"box.json\"\n",
    "as an example."
   ]
  },
  {
   "cell_type": "code",
   "execution_count": 3,
   "id": "ee7c9c9f-d09a-4b04-b159-21412b26de15",
   "metadata": {},
   "outputs": [
    {
     "data": {
      "text/plain": [
       "dict"
      ]
     },
     "execution_count": 3,
     "metadata": {},
     "output_type": "execute_result"
    }
   ],
   "source": [
    "import json\n",
    "\n",
    "# load the box.json data:\n",
    "boxjson = json.load(open(\"../docs/box.json\"))\n",
    "\n",
    "type(boxjson)"
   ]
  },
  {
   "cell_type": "code",
   "execution_count": 5,
   "id": "a928a8b9-a630-45c0-bf76-567b5bb2b745",
   "metadata": {},
   "outputs": [
    {
     "data": {
      "text/plain": [
       "['vertices', 'normals', 'center', 'radius']"
      ]
     },
     "execution_count": 5,
     "metadata": {},
     "output_type": "execute_result"
    }
   ],
   "source": [
    "# The JSON format consists of a dictionary containing numbers and lists of numbers\n",
    "list(boxjson.keys())"
   ]
  },
  {
   "cell_type": "code",
   "execution_count": 8,
   "id": "01110dc9-c5fb-4091-bde8-c87bc6c42be1",
   "metadata": {},
   "outputs": [
    {
     "data": {
      "text/plain": [
       "1.5"
      ]
     },
     "execution_count": 8,
     "metadata": {},
     "output_type": "execute_result"
    }
   ],
   "source": [
    "# The radius is used to position the \"camera\" -- it should be larger than the radius of a sphere that contains all vertices\n",
    "boxjson[\"radius\"]"
   ]
  },
  {
   "cell_type": "code",
   "execution_count": 11,
   "id": "91650a68-321c-4c3e-8d4a-e247999af5d9",
   "metadata": {},
   "outputs": [
    {
     "data": {
      "text/plain": [
       "[1, 1, 1]"
      ]
     },
     "execution_count": 11,
     "metadata": {},
     "output_type": "execute_result"
    }
   ],
   "source": [
    "# The center is also used to position the \"camera\" -- it should be the geometric center of a sphere containing all vertices \n",
    "# (represented as a list)\n",
    "boxjson[\"center\"]"
   ]
  },
  {
   "cell_type": "code",
   "execution_count": 14,
   "id": "2cc2fcca-6940-439a-ba3e-0aa1be6fe416",
   "metadata": {},
   "outputs": [
    {
     "name": "stdout",
     "output_type": "stream",
     "text": [
      "there are 8.0 triangles in the model\n",
      "first triangle [1.0, 0.5, 1.0, 1.0, 1.0, 0.5, 0.5, 1.0, 1.0]\n",
      "second triangle [0.5, 1.0, 1.0, 1.0, 1.0, 1.5, 1.0, 0.5, 1.0]\n"
     ]
    }
   ],
   "source": [
    "# The vertices is a \"flat\" list of numbers \n",
    "# where each 9 numbers in sequence represents the vertices\n",
    "# of one triangle\n",
    "vertices = boxjson[\"vertices\"]\n",
    "print(\"there are\", len(vertices)/9, \"triangles in the model\")\n",
    "print(\"first triangle\", vertices[0:9])\n",
    "print(\"second triangle\", vertices[9:18])"
   ]
  },
  {
   "cell_type": "code",
   "execution_count": 13,
   "id": "da3e8ce4-092f-477f-9ac8-62a428761d6f",
   "metadata": {},
   "outputs": [
    {
     "name": "stdout",
     "output_type": "stream",
     "text": [
      "normals for first triangle [0.0, -1.0, 0.0, 0.0, 0.0, -1.0, -0.8944271802902222, 0.4472135901451111, 0.0]\n",
      "normals for second second triangle [-0.8944271802902222, 0.4472135901451111, 0.0, 0.0, 0.0, 1.0, 0.0, -1.0, 0.0]\n"
     ]
    }
   ],
   "source": [
    "# The normals is alos a \"flat\" list of numbers\n",
    "# where each 9 numbers in sequence represents the normal vectors for\n",
    "# the corresponding triangle vertices\n",
    "normals = boxjson[\"normals\"]\n",
    "print(\"normals for first triangle\", normals[0:9])\n",
    "print(\"normals for second second triangle\", normals[9:18])"
   ]
  },
  {
   "cell_type": "markdown",
   "id": "b21aa8c5-d039-4b28-a282-48b5dba6a532",
   "metadata": {},
   "source": [
    "When you construct an appropriate dictionary, store it in JSON format\n",
    "to `../docs/head.json`.\n",
    "\n",
    "# Provide repeatable Python code for generating `head.json`\n",
    "\n",
    "You can either provide a Python script executable as\n",
    "\n",
    "```\n",
    "python make_head.py\n",
    "```\n",
    "\n",
    "Or put the operations into a Jupyter notebook `make_head.ipynb`.\n",
    "\n",
    "In either case add the generation code source to your forked repository.\n",
    "\n",
    "# Make a new web page that loads the JSON data set.\n",
    "\n",
    "Add a page `../docs/head.html` similar to the existing page `../docs/simple_box.html` which loads\n",
    "the `../docs/head.json` data file.  View the page and make sure it produces a 3d figure of a human head."
   ]
  },
  {
   "cell_type": "markdown",
   "id": "eeb896fa-c885-418f-9e56-7f0104e88043",
   "metadata": {},
   "source": [
    "# Add a link to the new web page in the index.\n",
    "\n",
    "In the `../docs/index.html` page add a third \"model\" listing which links to \"../docs/head.html\"."
   ]
  },
  {
   "cell_type": "markdown",
   "id": "2002d0c7-1490-4659-be35-d8e4d6636f80",
   "metadata": {},
   "source": [
    "# Commit changes to your forked repo and push the changes up to github\n",
    "\n",
    "In order to make your work visible you should check in the changes to `index.html` and add the new JSON and HTML files\n",
    "to your forked repository.\n",
    "\n",
    "Verify that the new web page and link work when loaded in Github pages."
   ]
  },
  {
   "cell_type": "code",
   "execution_count": null,
   "id": "3a6499d4-cf4c-4291-97eb-51c81cdbc22a",
   "metadata": {},
   "outputs": [],
   "source": []
  }
 ],
 "metadata": {
  "kernelspec": {
   "display_name": "Python 3 (ipykernel)",
   "language": "python",
   "name": "python3"
  },
  "language_info": {
   "codemirror_mode": {
    "name": "ipython",
    "version": 3
   },
   "file_extension": ".py",
   "mimetype": "text/x-python",
   "name": "python",
   "nbconvert_exporter": "python",
   "pygments_lexer": "ipython3",
   "version": "3.9.13"
  }
 },
 "nbformat": 4,
 "nbformat_minor": 5
}

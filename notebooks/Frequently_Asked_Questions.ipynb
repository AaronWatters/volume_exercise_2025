{
 "cells": [
  {
   "cell_type": "markdown",
   "id": "c0de844d-aea5-4412-9406-2708d32bda60",
   "metadata": {},
   "source": [
    "# Frequently Asked Questions\n",
    "\n",
    "Questions about `volume_exercise_2025` are answered here.\n",
    "\n",
    "## I can't make github pages work for a private repository without paying money to github.  What gives?\n",
    "\n",
    "Right!  Don't set up github pages!\n",
    "\n",
    "The initial assignment asked for a public fork, which would work with github pages for free.\n",
    "The assignment was changed to ask for a private repository to make your solution private, and the github pages\n",
    "feature request was removed to match."
   ]
  },
  {
   "cell_type": "code",
   "execution_count": null,
   "id": "deac42d8-5c54-493d-81bb-5599a66e8d0b",
   "metadata": {},
   "outputs": [],
   "source": []
  }
 ],
 "metadata": {
  "kernelspec": {
   "display_name": "Python 3 (ipykernel)",
   "language": "python",
   "name": "python3"
  },
  "language_info": {
   "codemirror_mode": {
    "name": "ipython",
    "version": 3
   },
   "file_extension": ".py",
   "mimetype": "text/x-python",
   "name": "python",
   "nbconvert_exporter": "python",
   "pygments_lexer": "ipython3",
   "version": "3.9.13"
  }
 },
 "nbformat": 4,
 "nbformat_minor": 5
}
